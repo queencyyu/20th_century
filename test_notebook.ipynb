{
 "cells": [
  {
   "cell_type": "code",
   "execution_count": 1,
   "id": "4e5c2398-cd23-4f2b-9db3-95c264db759d",
   "metadata": {
    "tags": []
   },
   "outputs": [],
   "source": [
    "# Simple Test Notebook\n",
    "# This is a test notebook with a simple addition.\n"
   ]
  },
  {
   "cell_type": "code",
   "execution_count": 3,
   "id": "62e07738-16bc-4335-9d1c-309ad2a479f7",
   "metadata": {
    "tags": []
   },
   "outputs": [
    {
     "data": {
      "text/plain": [
       "2"
      ]
     },
     "execution_count": 3,
     "metadata": {},
     "output_type": "execute_result"
    }
   ],
   "source": [
    "1 + 1"
   ]
  },
  {
   "cell_type": "code",
   "execution_count": null,
   "id": "b4cb8efa-4c88-4d38-b6a5-74dfd3453e73",
   "metadata": {},
   "outputs": [],
   "source": []
  }
 ],
 "metadata": {
  "kernelspec": {
   "display_name": "Python 3 (ipykernel)",
   "language": "python",
   "name": "python3"
  },
  "language_info": {
   "codemirror_mode": {
    "name": "ipython",
    "version": 3
   },
   "file_extension": ".py",
   "mimetype": "text/x-python",
   "name": "python",
   "nbconvert_exporter": "python",
   "pygments_lexer": "ipython3",
   "version": "3.11.5"
  }
 },
 "nbformat": 4,
 "nbformat_minor": 5
}
