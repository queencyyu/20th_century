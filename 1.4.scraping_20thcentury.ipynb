{
 "cells": [
  {
   "cell_type": "markdown",
   "id": "e520e64f-bb4a-4f1d-9c18-fb6c991bd090",
   "metadata": {},
   "source": [
    "### Scraping Key Events of 20th Century from Wiki"
   ]
  },
  {
   "cell_type": "code",
   "execution_count": 5,
   "id": "aeb21238-6bfc-45a0-82d7-12834221fc2d",
   "metadata": {},
   "outputs": [],
   "source": [
    "# Import Libraries\n",
    "\n",
    "import pandas as pd\n",
    "import time\n",
    "from selenium import webdriver\n",
    "from selenium.webdriver.common.by import By\n",
    "from selenium.webdriver.chrome.service import Service\n",
    "from selenium.webdriver.chrome.options import Options\n",
    "import matplotlib.pyplot as plt\n",
    "import os\n",
    "import logging\n",
    "import requests\n",
    "import bs4\n",
    "from bs4 import BeautifulSoup"
   ]
  },
  {
   "cell_type": "code",
   "execution_count": 3,
   "id": "177bdeb7-42e2-433f-8f76-bcab94e26378",
   "metadata": {},
   "outputs": [],
   "source": [
    "## Setup chrome options\n",
    "\n",
    "chrome_options = Options()\n",
    "chrome_options.add_argument(\"--headless\") # Ensure GUI is off\n",
    "chrome_options.add_argument(\"--no-sandbox\")"
   ]
  },
  {
   "cell_type": "code",
   "execution_count": 4,
   "id": "408b33e6-533d-4505-9192-bda6a2974261",
   "metadata": {},
   "outputs": [],
   "source": [
    "# Install Chrome driver manager\n",
    "\n",
    "driver = webdriver.Chrome(executable_path='/Library/Google/chromedriver-mac-x64/chromedriver')"
   ]
  },
  {
   "cell_type": "code",
   "execution_count": 6,
   "id": "3ae9aa1d-42eb-4e06-b95b-b850c55e9b9f",
   "metadata": {},
   "outputs": [],
   "source": [
    "# Get URL\n",
    "\n",
    "page = requests.get(\"https://en.wikipedia.org/wiki/Key_events_of_the_20th_century\")"
   ]
  },
  {
   "cell_type": "code",
   "execution_count": 7,
   "id": "c6a6f8e5-e9a1-4461-8ced-a3de107ec6eb",
   "metadata": {},
   "outputs": [
    {
     "name": "stdout",
     "output_type": "stream",
     "text": [
      "<title>Key events of the 20th century - Wikipedia</title>\n"
     ]
    }
   ],
   "source": [
    "# Create soup and get title\n",
    "\n",
    "soup = BeautifulSoup(page.text, 'html.parser')\n",
    "print(soup.title)"
   ]
  },
  {
   "cell_type": "code",
   "execution_count": 8,
   "id": "622a26ea-e5dc-4f26-9f21-35da0f2b92ba",
   "metadata": {},
   "outputs": [],
   "source": [
    "text = soup.get_text()"
   ]
  },
  {
   "cell_type": "code",
   "execution_count": 9,
   "id": "f69d67c7-8ccd-40e5-9cf5-37378d08a303",
   "metadata": {},
   "outputs": [],
   "source": [
    "text = text.encode('utf-8')"
   ]
  },
  {
   "cell_type": "code",
   "execution_count": 10,
   "id": "4268fdd7-868c-4477-8dde-a5cf3cf3cb56",
   "metadata": {},
   "outputs": [],
   "source": [
    "with open('20thCentury_article_Wiki.txt', 'wb') as f: \n",
    "    f.write(text)"
   ]
  }
 ],
 "metadata": {
  "kernelspec": {
   "display_name": "Python (venv_20thcentury)",
   "language": "python",
   "name": "venv_20thcentury"
  },
  "language_info": {
   "codemirror_mode": {
    "name": "ipython",
    "version": 3
   },
   "file_extension": ".py",
   "mimetype": "text/x-python",
   "name": "python",
   "nbconvert_exporter": "python",
   "pygments_lexer": "ipython3",
   "version": "3.12.4"
  }
 },
 "nbformat": 4,
 "nbformat_minor": 5
}
